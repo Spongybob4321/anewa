{
 "cells": [
  {
   "cell_type": "code",
   "execution_count": 1,
   "id": "d710f085-a207-4ece-ac85-ece1ae078eb3",
   "metadata": {},
   "outputs": [
    {
     "name": "stdout",
     "output_type": "stream",
     "text": [
      "Requirement already satisfied: bs4 in c:\\users\\yantao\\anewa\\ds-env\\lib\\site-packages (0.0.2)\n",
      "Requirement already satisfied: beautifulsoup4 in c:\\users\\yantao\\anewa\\ds-env\\lib\\site-packages (from bs4) (4.12.3)\n",
      "Requirement already satisfied: soupsieve>1.2 in c:\\users\\yantao\\anewa\\ds-env\\lib\\site-packages (from beautifulsoup4->bs4) (2.5)\n",
      "Requirement already satisfied: selenium in c:\\users\\yantao\\anewa\\ds-env\\lib\\site-packages (4.18.1)\n",
      "Requirement already satisfied: urllib3<3,>=1.26 in c:\\users\\yantao\\anewa\\ds-env\\lib\\site-packages (from urllib3[socks]<3,>=1.26->selenium) (2.2.1)\n",
      "Requirement already satisfied: trio~=0.17 in c:\\users\\yantao\\anewa\\ds-env\\lib\\site-packages (from selenium) (0.24.0)\n",
      "Requirement already satisfied: trio-websocket~=0.9 in c:\\users\\yantao\\anewa\\ds-env\\lib\\site-packages (from selenium) (0.11.1)\n",
      "Requirement already satisfied: certifi>=2021.10.8 in c:\\users\\yantao\\anewa\\ds-env\\lib\\site-packages (from selenium) (2024.2.2)\n",
      "Requirement already satisfied: typing_extensions>=4.9.0 in c:\\users\\yantao\\anewa\\ds-env\\lib\\site-packages (from selenium) (4.10.0)\n",
      "Requirement already satisfied: attrs>=20.1.0 in c:\\users\\yantao\\anewa\\ds-env\\lib\\site-packages (from trio~=0.17->selenium) (23.2.0)\n",
      "Requirement already satisfied: sortedcontainers in c:\\users\\yantao\\anewa\\ds-env\\lib\\site-packages (from trio~=0.17->selenium) (2.4.0)\n",
      "Requirement already satisfied: idna in c:\\users\\yantao\\anewa\\ds-env\\lib\\site-packages (from trio~=0.17->selenium) (3.6)\n",
      "Requirement already satisfied: outcome in c:\\users\\yantao\\anewa\\ds-env\\lib\\site-packages (from trio~=0.17->selenium) (1.3.0.post0)\n",
      "Requirement already satisfied: sniffio>=1.3.0 in c:\\users\\yantao\\anewa\\ds-env\\lib\\site-packages (from trio~=0.17->selenium) (1.3.0)\n",
      "Requirement already satisfied: cffi>=1.14 in c:\\users\\yantao\\anewa\\ds-env\\lib\\site-packages (from trio~=0.17->selenium) (1.16.0)\n",
      "Requirement already satisfied: wsproto>=0.14 in c:\\users\\yantao\\anewa\\ds-env\\lib\\site-packages (from trio-websocket~=0.9->selenium) (1.2.0)\n",
      "Requirement already satisfied: pysocks!=1.5.7,<2.0,>=1.5.6 in c:\\users\\yantao\\anewa\\ds-env\\lib\\site-packages (from urllib3[socks]<3,>=1.26->selenium) (1.7.1)\n",
      "Requirement already satisfied: pycparser in c:\\users\\yantao\\anewa\\ds-env\\lib\\site-packages (from cffi>=1.14->trio~=0.17->selenium) (2.21)\n",
      "Requirement already satisfied: h11<1,>=0.9.0 in c:\\users\\yantao\\anewa\\ds-env\\lib\\site-packages (from wsproto>=0.14->trio-websocket~=0.9->selenium) (0.14.0)\n",
      "Requirement already satisfied: pandas in c:\\users\\yantao\\anewa\\ds-env\\lib\\site-packages (2.2.1)\n",
      "Requirement already satisfied: numpy<2,>=1.23.2 in c:\\users\\yantao\\anewa\\ds-env\\lib\\site-packages (from pandas) (1.26.4)\n",
      "Requirement already satisfied: python-dateutil>=2.8.2 in c:\\users\\yantao\\anewa\\ds-env\\lib\\site-packages (from pandas) (2.8.2)\n",
      "Requirement already satisfied: pytz>=2020.1 in c:\\users\\yantao\\anewa\\ds-env\\lib\\site-packages (from pandas) (2024.1)\n",
      "Requirement already satisfied: tzdata>=2022.7 in c:\\users\\yantao\\anewa\\ds-env\\lib\\site-packages (from pandas) (2024.1)\n",
      "Requirement already satisfied: six>=1.5 in c:\\users\\yantao\\anewa\\ds-env\\lib\\site-packages (from python-dateutil>=2.8.2->pandas) (1.16.0)\n",
      "Requirement already satisfied: html5lib in c:\\users\\yantao\\anewa\\ds-env\\lib\\site-packages (1.1)\n",
      "Requirement already satisfied: six>=1.9 in c:\\users\\yantao\\anewa\\ds-env\\lib\\site-packages (from html5lib) (1.16.0)\n",
      "Requirement already satisfied: webencodings in c:\\users\\yantao\\anewa\\ds-env\\lib\\site-packages (from html5lib) (0.5.1)\n",
      "Requirement already satisfied: matplotlib in c:\\users\\yantao\\anewa\\ds-env\\lib\\site-packages (3.8.3)\n",
      "Requirement already satisfied: contourpy>=1.0.1 in c:\\users\\yantao\\anewa\\ds-env\\lib\\site-packages (from matplotlib) (1.2.0)\n",
      "Requirement already satisfied: cycler>=0.10 in c:\\users\\yantao\\anewa\\ds-env\\lib\\site-packages (from matplotlib) (0.12.1)\n",
      "Requirement already satisfied: fonttools>=4.22.0 in c:\\users\\yantao\\anewa\\ds-env\\lib\\site-packages (from matplotlib) (4.49.0)\n",
      "Requirement already satisfied: kiwisolver>=1.3.1 in c:\\users\\yantao\\anewa\\ds-env\\lib\\site-packages (from matplotlib) (1.4.5)\n",
      "Requirement already satisfied: numpy<2,>=1.21 in c:\\users\\yantao\\anewa\\ds-env\\lib\\site-packages (from matplotlib) (1.26.4)\n",
      "Requirement already satisfied: packaging>=20.0 in c:\\users\\yantao\\anewa\\ds-env\\lib\\site-packages (from matplotlib) (23.2)\n",
      "Requirement already satisfied: pillow>=8 in c:\\users\\yantao\\anewa\\ds-env\\lib\\site-packages (from matplotlib) (10.2.0)\n",
      "Requirement already satisfied: pyparsing>=2.3.1 in c:\\users\\yantao\\anewa\\ds-env\\lib\\site-packages (from matplotlib) (3.1.1)\n",
      "Requirement already satisfied: python-dateutil>=2.7 in c:\\users\\yantao\\anewa\\ds-env\\lib\\site-packages (from matplotlib) (2.8.2)\n",
      "Requirement already satisfied: six>=1.5 in c:\\users\\yantao\\anewa\\ds-env\\lib\\site-packages (from python-dateutil>=2.7->matplotlib) (1.16.0)\n",
      "Requirement already satisfied: scikit-learn in c:\\users\\yantao\\anewa\\ds-env\\lib\\site-packages (1.4.1.post1)\n",
      "Requirement already satisfied: numpy<2.0,>=1.19.5 in c:\\users\\yantao\\anewa\\ds-env\\lib\\site-packages (from scikit-learn) (1.26.4)\n",
      "Requirement already satisfied: scipy>=1.6.0 in c:\\users\\yantao\\anewa\\ds-env\\lib\\site-packages (from scikit-learn) (1.12.0)\n",
      "Requirement already satisfied: joblib>=1.2.0 in c:\\users\\yantao\\anewa\\ds-env\\lib\\site-packages (from scikit-learn) (1.3.2)\n",
      "Requirement already satisfied: threadpoolctl>=2.0.0 in c:\\users\\yantao\\anewa\\ds-env\\lib\\site-packages (from scikit-learn) (3.3.0)\n",
      "Requirement already satisfied: lxml in c:\\users\\yantao\\anewa\\ds-env\\lib\\site-packages (5.1.0)\n"
     ]
    }
   ],
   "source": [
    "!pip install bs4\n",
    "!pip install selenium\n",
    "!pip install pandas\n",
    "!pip install html5lib\n",
    "!pip install matplotlib\n",
    "!pip install scikit-learn\n",
    "!pip install lxml"
   ]
  },
  {
   "cell_type": "code",
   "execution_count": 2,
   "id": "317d2adb-2559-43f4-97cf-0fe01c3e7aac",
   "metadata": {},
   "outputs": [
    {
     "name": "stdout",
     "output_type": "stream",
     "text": [
      "Requirement already satisfied: requests in c:\\users\\yantao\\anewa\\ds-env\\lib\\site-packages (2.31.0)\n",
      "Requirement already satisfied: charset-normalizer<4,>=2 in c:\\users\\yantao\\anewa\\ds-env\\lib\\site-packages (from requests) (3.3.2)\n",
      "Requirement already satisfied: idna<4,>=2.5 in c:\\users\\yantao\\anewa\\ds-env\\lib\\site-packages (from requests) (3.6)\n",
      "Requirement already satisfied: urllib3<3,>=1.21.1 in c:\\users\\yantao\\anewa\\ds-env\\lib\\site-packages (from requests) (2.2.1)\n",
      "Requirement already satisfied: certifi>=2017.4.17 in c:\\users\\yantao\\anewa\\ds-env\\lib\\site-packages (from requests) (2024.2.2)\n",
      "Note: you may need to restart the kernel to use updated packages.\n"
     ]
    }
   ],
   "source": [
    "pip install requests"
   ]
  },
  {
   "cell_type": "code",
   "execution_count": 3,
   "id": "e12e7962-3036-4e1f-92b2-99199e0874bd",
   "metadata": {},
   "outputs": [],
   "source": [
    "import requests"
   ]
  },
  {
   "cell_type": "markdown",
   "id": "93995613-29a5-4cb8-9c4e-3458ca8a4a1a",
   "metadata": {},
   "source": [
    "Download COVID wastewater data"
   ]
  },
  {
   "cell_type": "code",
   "execution_count": 7,
   "id": "815f2906-1890-460e-9aa4-6c1d49f51c4f",
   "metadata": {},
   "outputs": [],
   "source": [
    "url = \"https://www.publichealthontario.ca/-/media/Data-Files/wastewater-surveillance-signal-data.xlsx?sc_lang=en&rev=0880af749e364831ad0bdc990f1aba0a&hash=8A05D0491E915208D15E0B94CD999B51\"\n",
    "filename = 'COVIDWastewaterSignalData.xlsx'\n",
    "headers = {'User-Agent': 'Mozilla/5.0 (Macintosh; Intel Mac OS X 10_10_1) AppleWebKit/537.36 (KHTML, like Gecko) Chrome/39.0.2171.95 Safari/537.36'}\n",
    "response = requests.get(url, headers=headers)"
   ]
  },
  {
   "cell_type": "code",
   "execution_count": 8,
   "id": "7fa46e98-3318-406d-acc3-3c53e06b73c8",
   "metadata": {},
   "outputs": [],
   "source": [
    "with open(filename, mode=\"wb\") as file:\n",
    "    file.write(response.content)"
   ]
  },
  {
   "cell_type": "markdown",
   "id": "6274b480-9673-429f-8b76-008c560c3ca0",
   "metadata": {},
   "source": [
    "Dataset is in excel format, therefore, needs openpyxl"
   ]
  },
  {
   "cell_type": "code",
   "execution_count": 11,
   "id": "813a337e-cfde-4a51-9d1c-4db5eea078a2",
   "metadata": {},
   "outputs": [
    {
     "name": "stdout",
     "output_type": "stream",
     "text": [
      "Collecting openpyxl\n",
      "  Downloading openpyxl-3.1.2-py2.py3-none-any.whl.metadata (2.5 kB)\n",
      "Collecting et-xmlfile (from openpyxl)\n",
      "  Downloading et_xmlfile-1.1.0-py3-none-any.whl.metadata (1.8 kB)\n",
      "Downloading openpyxl-3.1.2-py2.py3-none-any.whl (249 kB)\n",
      "   ---------------------------------------- 0.0/250.0 kB ? eta -:--:--\n",
      "   ---- ----------------------------------- 30.7/250.0 kB 1.3 MB/s eta 0:00:01\n",
      "   ---------------------------------------- 250.0/250.0 kB 3.0 MB/s eta 0:00:00\n",
      "Downloading et_xmlfile-1.1.0-py3-none-any.whl (4.7 kB)\n",
      "Installing collected packages: et-xmlfile, openpyxl\n",
      "Successfully installed et-xmlfile-1.1.0 openpyxl-3.1.2\n",
      "Note: you may need to restart the kernel to use updated packages.\n"
     ]
    }
   ],
   "source": [
    "pip install openpyxl"
   ]
  },
  {
   "cell_type": "code",
   "execution_count": 15,
   "id": "a1ca0d87-c861-4bfb-9d15-c31deb15556f",
   "metadata": {},
   "outputs": [],
   "source": [
    "import pandas as pd\n",
    "filename = 'COVIDWastewaterSignalData.xlsx'\n",
    "wws = pd.read_excel(filename, sheet_name=1)"
   ]
  },
  {
   "cell_type": "code",
   "execution_count": 16,
   "id": "3b1727f5-3938-4904-90d2-65b894a5939e",
   "metadata": {},
   "outputs": [
    {
     "data": {
      "text/html": [
       "<div>\n",
       "<style scoped>\n",
       "    .dataframe tbody tr th:only-of-type {\n",
       "        vertical-align: middle;\n",
       "    }\n",
       "\n",
       "    .dataframe tbody tr th {\n",
       "        vertical-align: top;\n",
       "    }\n",
       "\n",
       "    .dataframe thead th {\n",
       "        text-align: right;\n",
       "    }\n",
       "</style>\n",
       "<table border=\"1\" class=\"dataframe\">\n",
       "  <thead>\n",
       "    <tr style=\"text-align: right;\">\n",
       "      <th></th>\n",
       "      <th>Sample Date</th>\n",
       "      <th>Province</th>\n",
       "      <th>Central East, ex GTA</th>\n",
       "      <th>Central West, ex GTA</th>\n",
       "      <th>Eastern</th>\n",
       "      <th>GTA</th>\n",
       "      <th>North East</th>\n",
       "      <th>North West</th>\n",
       "      <th>South West</th>\n",
       "    </tr>\n",
       "  </thead>\n",
       "  <tbody>\n",
       "    <tr>\n",
       "      <th>0</th>\n",
       "      <td>2023-02-15</td>\n",
       "      <td>0.74</td>\n",
       "      <td>0.68</td>\n",
       "      <td>0.50</td>\n",
       "      <td>0.92</td>\n",
       "      <td>0.73</td>\n",
       "      <td>1.81</td>\n",
       "      <td>0.31</td>\n",
       "      <td>0.31</td>\n",
       "    </tr>\n",
       "    <tr>\n",
       "      <th>1</th>\n",
       "      <td>2023-02-16</td>\n",
       "      <td>0.74</td>\n",
       "      <td>0.68</td>\n",
       "      <td>0.50</td>\n",
       "      <td>0.93</td>\n",
       "      <td>0.72</td>\n",
       "      <td>1.75</td>\n",
       "      <td>0.32</td>\n",
       "      <td>0.32</td>\n",
       "    </tr>\n",
       "    <tr>\n",
       "      <th>2</th>\n",
       "      <td>2023-02-17</td>\n",
       "      <td>0.73</td>\n",
       "      <td>0.68</td>\n",
       "      <td>0.51</td>\n",
       "      <td>0.94</td>\n",
       "      <td>0.72</td>\n",
       "      <td>1.68</td>\n",
       "      <td>0.33</td>\n",
       "      <td>0.33</td>\n",
       "    </tr>\n",
       "    <tr>\n",
       "      <th>3</th>\n",
       "      <td>2023-02-18</td>\n",
       "      <td>0.73</td>\n",
       "      <td>0.68</td>\n",
       "      <td>0.52</td>\n",
       "      <td>0.94</td>\n",
       "      <td>0.71</td>\n",
       "      <td>1.60</td>\n",
       "      <td>0.35</td>\n",
       "      <td>0.34</td>\n",
       "    </tr>\n",
       "    <tr>\n",
       "      <th>4</th>\n",
       "      <td>2023-02-19</td>\n",
       "      <td>0.73</td>\n",
       "      <td>0.67</td>\n",
       "      <td>0.52</td>\n",
       "      <td>0.95</td>\n",
       "      <td>0.70</td>\n",
       "      <td>1.51</td>\n",
       "      <td>0.36</td>\n",
       "      <td>0.35</td>\n",
       "    </tr>\n",
       "  </tbody>\n",
       "</table>\n",
       "</div>"
      ],
      "text/plain": [
       "  Sample Date  Province  Central East, ex GTA  Central West, ex GTA  Eastern  \\\n",
       "0  2023-02-15      0.74                  0.68                  0.50     0.92   \n",
       "1  2023-02-16      0.74                  0.68                  0.50     0.93   \n",
       "2  2023-02-17      0.73                  0.68                  0.51     0.94   \n",
       "3  2023-02-18      0.73                  0.68                  0.52     0.94   \n",
       "4  2023-02-19      0.73                  0.67                  0.52     0.95   \n",
       "\n",
       "    GTA  North East  North West  South West  \n",
       "0  0.73        1.81        0.31        0.31  \n",
       "1  0.72        1.75        0.32        0.32  \n",
       "2  0.72        1.68        0.33        0.33  \n",
       "3  0.71        1.60        0.35        0.34  \n",
       "4  0.70        1.51        0.36        0.35  "
      ]
     },
     "execution_count": 16,
     "metadata": {},
     "output_type": "execute_result"
    }
   ],
   "source": [
    "wws.head()"
   ]
  },
  {
   "cell_type": "code",
   "execution_count": 17,
   "id": "109bae18-f208-4e7f-898c-fc131a4dbf0d",
   "metadata": {},
   "outputs": [
    {
     "data": {
      "text/plain": [
       "367"
      ]
     },
     "execution_count": 17,
     "metadata": {},
     "output_type": "execute_result"
    }
   ],
   "source": [
    "len(wws)"
   ]
  },
  {
   "cell_type": "code",
   "execution_count": 18,
   "id": "4442667e-7b50-4673-adea-21278c991d47",
   "metadata": {},
   "outputs": [
    {
     "name": "stdout",
     "output_type": "stream",
     "text": [
      "<class 'pandas.core.frame.DataFrame'>\n",
      "RangeIndex: 367 entries, 0 to 366\n",
      "Data columns (total 9 columns):\n",
      " #   Column                Non-Null Count  Dtype         \n",
      "---  ------                --------------  -----         \n",
      " 0   Sample Date           367 non-null    datetime64[ns]\n",
      " 1   Province              367 non-null    float64       \n",
      " 2   Central East, ex GTA  367 non-null    float64       \n",
      " 3   Central West, ex GTA  367 non-null    float64       \n",
      " 4   Eastern               367 non-null    float64       \n",
      " 5   GTA                   367 non-null    float64       \n",
      " 6   North East            367 non-null    float64       \n",
      " 7   North West            367 non-null    float64       \n",
      " 8   South West            367 non-null    float64       \n",
      "dtypes: datetime64[ns](1), float64(8)\n",
      "memory usage: 25.9 KB\n"
     ]
    }
   ],
   "source": [
    "wws.info()"
   ]
  },
  {
   "cell_type": "code",
   "execution_count": 19,
   "id": "26055a2d-90f4-429f-9601-38d7cbaeb3f6",
   "metadata": {},
   "outputs": [
    {
     "data": {
      "text/html": [
       "<div>\n",
       "<style scoped>\n",
       "    .dataframe tbody tr th:only-of-type {\n",
       "        vertical-align: middle;\n",
       "    }\n",
       "\n",
       "    .dataframe tbody tr th {\n",
       "        vertical-align: top;\n",
       "    }\n",
       "\n",
       "    .dataframe thead th {\n",
       "        text-align: right;\n",
       "    }\n",
       "</style>\n",
       "<table border=\"1\" class=\"dataframe\">\n",
       "  <thead>\n",
       "    <tr style=\"text-align: right;\">\n",
       "      <th></th>\n",
       "      <th>Sample Date</th>\n",
       "      <th>Province</th>\n",
       "      <th>Central East, ex GTA</th>\n",
       "      <th>Central West, ex GTA</th>\n",
       "      <th>Eastern</th>\n",
       "      <th>GTA</th>\n",
       "      <th>North East</th>\n",
       "      <th>North West</th>\n",
       "      <th>South West</th>\n",
       "    </tr>\n",
       "  </thead>\n",
       "  <tbody>\n",
       "    <tr>\n",
       "      <th>count</th>\n",
       "      <td>367</td>\n",
       "      <td>367.000000</td>\n",
       "      <td>367.000000</td>\n",
       "      <td>367.000000</td>\n",
       "      <td>367.000000</td>\n",
       "      <td>367.000000</td>\n",
       "      <td>367.000000</td>\n",
       "      <td>367.000000</td>\n",
       "      <td>367.000000</td>\n",
       "    </tr>\n",
       "    <tr>\n",
       "      <th>mean</th>\n",
       "      <td>2023-08-17 00:00:00</td>\n",
       "      <td>0.771499</td>\n",
       "      <td>0.705640</td>\n",
       "      <td>0.547003</td>\n",
       "      <td>0.949564</td>\n",
       "      <td>0.784877</td>\n",
       "      <td>0.325749</td>\n",
       "      <td>0.872698</td>\n",
       "      <td>0.636185</td>\n",
       "    </tr>\n",
       "    <tr>\n",
       "      <th>min</th>\n",
       "      <td>2023-02-15 00:00:00</td>\n",
       "      <td>0.150000</td>\n",
       "      <td>0.070000</td>\n",
       "      <td>0.110000</td>\n",
       "      <td>0.160000</td>\n",
       "      <td>0.170000</td>\n",
       "      <td>0.050000</td>\n",
       "      <td>0.090000</td>\n",
       "      <td>0.080000</td>\n",
       "    </tr>\n",
       "    <tr>\n",
       "      <th>25%</th>\n",
       "      <td>2023-05-17 12:00:00</td>\n",
       "      <td>0.300000</td>\n",
       "      <td>0.160000</td>\n",
       "      <td>0.215000</td>\n",
       "      <td>0.435000</td>\n",
       "      <td>0.315000</td>\n",
       "      <td>0.080000</td>\n",
       "      <td>0.315000</td>\n",
       "      <td>0.125000</td>\n",
       "    </tr>\n",
       "    <tr>\n",
       "      <th>50%</th>\n",
       "      <td>2023-08-17 00:00:00</td>\n",
       "      <td>0.640000</td>\n",
       "      <td>0.480000</td>\n",
       "      <td>0.420000</td>\n",
       "      <td>0.870000</td>\n",
       "      <td>0.610000</td>\n",
       "      <td>0.190000</td>\n",
       "      <td>0.530000</td>\n",
       "      <td>0.360000</td>\n",
       "    </tr>\n",
       "    <tr>\n",
       "      <th>75%</th>\n",
       "      <td>2023-11-16 12:00:00</td>\n",
       "      <td>0.880000</td>\n",
       "      <td>0.745000</td>\n",
       "      <td>0.580000</td>\n",
       "      <td>1.255000</td>\n",
       "      <td>0.870000</td>\n",
       "      <td>0.460000</td>\n",
       "      <td>1.230000</td>\n",
       "      <td>0.890000</td>\n",
       "    </tr>\n",
       "    <tr>\n",
       "      <th>max</th>\n",
       "      <td>2024-02-16 00:00:00</td>\n",
       "      <td>2.310000</td>\n",
       "      <td>3.460000</td>\n",
       "      <td>1.970000</td>\n",
       "      <td>2.190000</td>\n",
       "      <td>2.790000</td>\n",
       "      <td>1.810000</td>\n",
       "      <td>2.880000</td>\n",
       "      <td>2.740000</td>\n",
       "    </tr>\n",
       "    <tr>\n",
       "      <th>std</th>\n",
       "      <td>NaN</td>\n",
       "      <td>0.581749</td>\n",
       "      <td>0.795141</td>\n",
       "      <td>0.488313</td>\n",
       "      <td>0.571343</td>\n",
       "      <td>0.637582</td>\n",
       "      <td>0.322502</td>\n",
       "      <td>0.762859</td>\n",
       "      <td>0.662693</td>\n",
       "    </tr>\n",
       "  </tbody>\n",
       "</table>\n",
       "</div>"
      ],
      "text/plain": [
       "               Sample Date    Province  Central East, ex GTA  \\\n",
       "count                  367  367.000000            367.000000   \n",
       "mean   2023-08-17 00:00:00    0.771499              0.705640   \n",
       "min    2023-02-15 00:00:00    0.150000              0.070000   \n",
       "25%    2023-05-17 12:00:00    0.300000              0.160000   \n",
       "50%    2023-08-17 00:00:00    0.640000              0.480000   \n",
       "75%    2023-11-16 12:00:00    0.880000              0.745000   \n",
       "max    2024-02-16 00:00:00    2.310000              3.460000   \n",
       "std                    NaN    0.581749              0.795141   \n",
       "\n",
       "       Central West, ex GTA     Eastern         GTA  North East  North West  \\\n",
       "count            367.000000  367.000000  367.000000  367.000000  367.000000   \n",
       "mean               0.547003    0.949564    0.784877    0.325749    0.872698   \n",
       "min                0.110000    0.160000    0.170000    0.050000    0.090000   \n",
       "25%                0.215000    0.435000    0.315000    0.080000    0.315000   \n",
       "50%                0.420000    0.870000    0.610000    0.190000    0.530000   \n",
       "75%                0.580000    1.255000    0.870000    0.460000    1.230000   \n",
       "max                1.970000    2.190000    2.790000    1.810000    2.880000   \n",
       "std                0.488313    0.571343    0.637582    0.322502    0.762859   \n",
       "\n",
       "       South West  \n",
       "count  367.000000  \n",
       "mean     0.636185  \n",
       "min      0.080000  \n",
       "25%      0.125000  \n",
       "50%      0.360000  \n",
       "75%      0.890000  \n",
       "max      2.740000  \n",
       "std      0.662693  "
      ]
     },
     "execution_count": 19,
     "metadata": {},
     "output_type": "execute_result"
    }
   ],
   "source": [
    "wws.describe()"
   ]
  },
  {
   "cell_type": "code",
   "execution_count": 20,
   "id": "78e52cce-6c56-4184-a673-0befeb51f774",
   "metadata": {},
   "outputs": [],
   "source": [
    "wws['SampleDatetime'] = pd.to_datetime(wws['Sample Date'])"
   ]
  },
  {
   "cell_type": "markdown",
   "id": "a1fb095a-559c-49db-bec5-92fb7b4c7e09",
   "metadata": {},
   "source": [
    "just to explore the date and datetime convertion"
   ]
  },
  {
   "cell_type": "code",
   "execution_count": 21,
   "id": "bfb7574b-8954-42b6-8774-260a4a56517f",
   "metadata": {},
   "outputs": [],
   "source": [
    "wws['SampleDate'] = wws['SampleDatetime'].dt.date"
   ]
  },
  {
   "cell_type": "code",
   "execution_count": 23,
   "id": "6e03b189-c98d-499d-a953-d62e10dd65d2",
   "metadata": {},
   "outputs": [
    {
     "data": {
      "text/html": [
       "<div>\n",
       "<style scoped>\n",
       "    .dataframe tbody tr th:only-of-type {\n",
       "        vertical-align: middle;\n",
       "    }\n",
       "\n",
       "    .dataframe tbody tr th {\n",
       "        vertical-align: top;\n",
       "    }\n",
       "\n",
       "    .dataframe thead th {\n",
       "        text-align: right;\n",
       "    }\n",
       "</style>\n",
       "<table border=\"1\" class=\"dataframe\">\n",
       "  <thead>\n",
       "    <tr style=\"text-align: right;\">\n",
       "      <th></th>\n",
       "      <th>Sample Date</th>\n",
       "      <th>Province</th>\n",
       "      <th>Central East, ex GTA</th>\n",
       "      <th>Central West, ex GTA</th>\n",
       "      <th>Eastern</th>\n",
       "      <th>GTA</th>\n",
       "      <th>North East</th>\n",
       "      <th>North West</th>\n",
       "      <th>South West</th>\n",
       "      <th>SampleDatetime</th>\n",
       "      <th>SampleDate</th>\n",
       "    </tr>\n",
       "  </thead>\n",
       "  <tbody>\n",
       "    <tr>\n",
       "      <th>0</th>\n",
       "      <td>2023-02-15</td>\n",
       "      <td>0.74</td>\n",
       "      <td>0.68</td>\n",
       "      <td>0.50</td>\n",
       "      <td>0.92</td>\n",
       "      <td>0.73</td>\n",
       "      <td>1.81</td>\n",
       "      <td>0.31</td>\n",
       "      <td>0.31</td>\n",
       "      <td>2023-02-15</td>\n",
       "      <td>2023-02-15</td>\n",
       "    </tr>\n",
       "    <tr>\n",
       "      <th>1</th>\n",
       "      <td>2023-02-16</td>\n",
       "      <td>0.74</td>\n",
       "      <td>0.68</td>\n",
       "      <td>0.50</td>\n",
       "      <td>0.93</td>\n",
       "      <td>0.72</td>\n",
       "      <td>1.75</td>\n",
       "      <td>0.32</td>\n",
       "      <td>0.32</td>\n",
       "      <td>2023-02-16</td>\n",
       "      <td>2023-02-16</td>\n",
       "    </tr>\n",
       "    <tr>\n",
       "      <th>2</th>\n",
       "      <td>2023-02-17</td>\n",
       "      <td>0.73</td>\n",
       "      <td>0.68</td>\n",
       "      <td>0.51</td>\n",
       "      <td>0.94</td>\n",
       "      <td>0.72</td>\n",
       "      <td>1.68</td>\n",
       "      <td>0.33</td>\n",
       "      <td>0.33</td>\n",
       "      <td>2023-02-17</td>\n",
       "      <td>2023-02-17</td>\n",
       "    </tr>\n",
       "    <tr>\n",
       "      <th>3</th>\n",
       "      <td>2023-02-18</td>\n",
       "      <td>0.73</td>\n",
       "      <td>0.68</td>\n",
       "      <td>0.52</td>\n",
       "      <td>0.94</td>\n",
       "      <td>0.71</td>\n",
       "      <td>1.60</td>\n",
       "      <td>0.35</td>\n",
       "      <td>0.34</td>\n",
       "      <td>2023-02-18</td>\n",
       "      <td>2023-02-18</td>\n",
       "    </tr>\n",
       "    <tr>\n",
       "      <th>4</th>\n",
       "      <td>2023-02-19</td>\n",
       "      <td>0.73</td>\n",
       "      <td>0.67</td>\n",
       "      <td>0.52</td>\n",
       "      <td>0.95</td>\n",
       "      <td>0.70</td>\n",
       "      <td>1.51</td>\n",
       "      <td>0.36</td>\n",
       "      <td>0.35</td>\n",
       "      <td>2023-02-19</td>\n",
       "      <td>2023-02-19</td>\n",
       "    </tr>\n",
       "  </tbody>\n",
       "</table>\n",
       "</div>"
      ],
      "text/plain": [
       "  Sample Date  Province  Central East, ex GTA  Central West, ex GTA  Eastern  \\\n",
       "0  2023-02-15      0.74                  0.68                  0.50     0.92   \n",
       "1  2023-02-16      0.74                  0.68                  0.50     0.93   \n",
       "2  2023-02-17      0.73                  0.68                  0.51     0.94   \n",
       "3  2023-02-18      0.73                  0.68                  0.52     0.94   \n",
       "4  2023-02-19      0.73                  0.67                  0.52     0.95   \n",
       "\n",
       "    GTA  North East  North West  South West SampleDatetime  SampleDate  \n",
       "0  0.73        1.81        0.31        0.31     2023-02-15  2023-02-15  \n",
       "1  0.72        1.75        0.32        0.32     2023-02-16  2023-02-16  \n",
       "2  0.72        1.68        0.33        0.33     2023-02-17  2023-02-17  \n",
       "3  0.71        1.60        0.35        0.34     2023-02-18  2023-02-18  \n",
       "4  0.70        1.51        0.36        0.35     2023-02-19  2023-02-19  "
      ]
     },
     "execution_count": 23,
     "metadata": {},
     "output_type": "execute_result"
    }
   ],
   "source": [
    "wws.head()"
   ]
  },
  {
   "cell_type": "code",
   "execution_count": 32,
   "id": "beaa3d13-814c-4f2c-9a36-05247e4762ea",
   "metadata": {},
   "outputs": [],
   "source": [
    "date_str = '2024-01-01'\n",
    "date_obj =pd.to_datetime(date_str)"
   ]
  },
  {
   "cell_type": "markdown",
   "id": "652230ba-6f35-49a8-8fda-467f23e98afb",
   "metadata": {},
   "source": [
    "filter data records in year 2024 "
   ]
  },
  {
   "cell_type": "code",
   "execution_count": 37,
   "id": "85d35d58-3f95-4f3e-a8fd-7df1ca994583",
   "metadata": {},
   "outputs": [],
   "source": [
    "wws_2024plus = wws.loc[wws['Sample Date'] > date_obj]"
   ]
  },
  {
   "cell_type": "code",
   "execution_count": 38,
   "id": "ea294555-a0ee-46e4-b22d-308e60f0d37f",
   "metadata": {},
   "outputs": [
    {
     "data": {
      "text/html": [
       "<div>\n",
       "<style scoped>\n",
       "    .dataframe tbody tr th:only-of-type {\n",
       "        vertical-align: middle;\n",
       "    }\n",
       "\n",
       "    .dataframe tbody tr th {\n",
       "        vertical-align: top;\n",
       "    }\n",
       "\n",
       "    .dataframe thead th {\n",
       "        text-align: right;\n",
       "    }\n",
       "</style>\n",
       "<table border=\"1\" class=\"dataframe\">\n",
       "  <thead>\n",
       "    <tr style=\"text-align: right;\">\n",
       "      <th></th>\n",
       "      <th>Sample Date</th>\n",
       "      <th>Province</th>\n",
       "      <th>Central East, ex GTA</th>\n",
       "      <th>Central West, ex GTA</th>\n",
       "      <th>Eastern</th>\n",
       "      <th>GTA</th>\n",
       "      <th>North East</th>\n",
       "      <th>North West</th>\n",
       "      <th>South West</th>\n",
       "      <th>SampleDatetime</th>\n",
       "      <th>SampleDate</th>\n",
       "    </tr>\n",
       "  </thead>\n",
       "  <tbody>\n",
       "    <tr>\n",
       "      <th>321</th>\n",
       "      <td>2024-01-02</td>\n",
       "      <td>2.04</td>\n",
       "      <td>2.43</td>\n",
       "      <td>1.33</td>\n",
       "      <td>2.14</td>\n",
       "      <td>2.13</td>\n",
       "      <td>0.55</td>\n",
       "      <td>1.86</td>\n",
       "      <td>2.63</td>\n",
       "      <td>2024-01-02</td>\n",
       "      <td>2024-01-02</td>\n",
       "    </tr>\n",
       "    <tr>\n",
       "      <th>322</th>\n",
       "      <td>2024-01-03</td>\n",
       "      <td>2.00</td>\n",
       "      <td>2.28</td>\n",
       "      <td>1.28</td>\n",
       "      <td>2.11</td>\n",
       "      <td>2.09</td>\n",
       "      <td>0.51</td>\n",
       "      <td>1.73</td>\n",
       "      <td>2.59</td>\n",
       "      <td>2024-01-03</td>\n",
       "      <td>2024-01-03</td>\n",
       "    </tr>\n",
       "    <tr>\n",
       "      <th>323</th>\n",
       "      <td>2024-01-04</td>\n",
       "      <td>1.95</td>\n",
       "      <td>2.14</td>\n",
       "      <td>1.23</td>\n",
       "      <td>2.07</td>\n",
       "      <td>2.05</td>\n",
       "      <td>0.47</td>\n",
       "      <td>1.62</td>\n",
       "      <td>2.55</td>\n",
       "      <td>2024-01-04</td>\n",
       "      <td>2024-01-04</td>\n",
       "    </tr>\n",
       "    <tr>\n",
       "      <th>324</th>\n",
       "      <td>2024-01-05</td>\n",
       "      <td>1.90</td>\n",
       "      <td>2.00</td>\n",
       "      <td>1.17</td>\n",
       "      <td>2.03</td>\n",
       "      <td>2.00</td>\n",
       "      <td>0.44</td>\n",
       "      <td>1.51</td>\n",
       "      <td>2.50</td>\n",
       "      <td>2024-01-05</td>\n",
       "      <td>2024-01-05</td>\n",
       "    </tr>\n",
       "    <tr>\n",
       "      <th>325</th>\n",
       "      <td>2024-01-06</td>\n",
       "      <td>1.85</td>\n",
       "      <td>1.87</td>\n",
       "      <td>1.12</td>\n",
       "      <td>1.98</td>\n",
       "      <td>1.96</td>\n",
       "      <td>0.41</td>\n",
       "      <td>1.41</td>\n",
       "      <td>2.45</td>\n",
       "      <td>2024-01-06</td>\n",
       "      <td>2024-01-06</td>\n",
       "    </tr>\n",
       "  </tbody>\n",
       "</table>\n",
       "</div>"
      ],
      "text/plain": [
       "    Sample Date  Province  Central East, ex GTA  Central West, ex GTA  \\\n",
       "321  2024-01-02      2.04                  2.43                  1.33   \n",
       "322  2024-01-03      2.00                  2.28                  1.28   \n",
       "323  2024-01-04      1.95                  2.14                  1.23   \n",
       "324  2024-01-05      1.90                  2.00                  1.17   \n",
       "325  2024-01-06      1.85                  1.87                  1.12   \n",
       "\n",
       "     Eastern   GTA  North East  North West  South West SampleDatetime  \\\n",
       "321     2.14  2.13        0.55        1.86        2.63     2024-01-02   \n",
       "322     2.11  2.09        0.51        1.73        2.59     2024-01-03   \n",
       "323     2.07  2.05        0.47        1.62        2.55     2024-01-04   \n",
       "324     2.03  2.00        0.44        1.51        2.50     2024-01-05   \n",
       "325     1.98  1.96        0.41        1.41        2.45     2024-01-06   \n",
       "\n",
       "     SampleDate  \n",
       "321  2024-01-02  \n",
       "322  2024-01-03  \n",
       "323  2024-01-04  \n",
       "324  2024-01-05  \n",
       "325  2024-01-06  "
      ]
     },
     "execution_count": 38,
     "metadata": {},
     "output_type": "execute_result"
    }
   ],
   "source": [
    "wws_2024plus.head()"
   ]
  },
  {
   "cell_type": "code",
   "execution_count": 39,
   "id": "ea1fce6d-b072-4436-a4ff-71f5b56077af",
   "metadata": {},
   "outputs": [
    {
     "data": {
      "text/plain": [
       "46"
      ]
     },
     "execution_count": 39,
     "metadata": {},
     "output_type": "execute_result"
    }
   ],
   "source": [
    "len(wws_2024plus)"
   ]
  },
  {
   "cell_type": "markdown",
   "id": "ba90dcc5-39bd-4a88-84a0-20e8b0885207",
   "metadata": {},
   "source": [
    "# to create a simple bar graph showing the most recent COVID wastewater signal in different regions\n",
    "* keep the most recent data\n",
    "* transpose data\n",
    "* plot bar graph\r\n"
   ]
  },
  {
   "cell_type": "code",
   "execution_count": 75,
   "id": "f7243b7b-487f-48af-81d7-9458e0e9a0bc",
   "metadata": {},
   "outputs": [],
   "source": [
    "wws_recent = wws.loc[wws['Sample Date'] == wws['Sample Date'].max()]"
   ]
  },
  {
   "cell_type": "code",
   "execution_count": 76,
   "id": "741aaf1c-e737-478d-9b18-9f891f060b9a",
   "metadata": {},
   "outputs": [
    {
     "data": {
      "text/html": [
       "<div>\n",
       "<style scoped>\n",
       "    .dataframe tbody tr th:only-of-type {\n",
       "        vertical-align: middle;\n",
       "    }\n",
       "\n",
       "    .dataframe tbody tr th {\n",
       "        vertical-align: top;\n",
       "    }\n",
       "\n",
       "    .dataframe thead th {\n",
       "        text-align: right;\n",
       "    }\n",
       "</style>\n",
       "<table border=\"1\" class=\"dataframe\">\n",
       "  <thead>\n",
       "    <tr style=\"text-align: right;\">\n",
       "      <th></th>\n",
       "      <th>Sample Date</th>\n",
       "      <th>Province</th>\n",
       "      <th>Central East, ex GTA</th>\n",
       "      <th>Central West, ex GTA</th>\n",
       "      <th>Eastern</th>\n",
       "      <th>GTA</th>\n",
       "      <th>North East</th>\n",
       "      <th>North West</th>\n",
       "      <th>South West</th>\n",
       "      <th>SampleDatetime</th>\n",
       "      <th>SampleDate</th>\n",
       "    </tr>\n",
       "  </thead>\n",
       "  <tbody>\n",
       "    <tr>\n",
       "      <th>366</th>\n",
       "      <td>2024-02-16</td>\n",
       "      <td>0.54</td>\n",
       "      <td>0.56</td>\n",
       "      <td>0.44</td>\n",
       "      <td>0.65</td>\n",
       "      <td>0.5</td>\n",
       "      <td>0.17</td>\n",
       "      <td>2.68</td>\n",
       "      <td>0.62</td>\n",
       "      <td>2024-02-16</td>\n",
       "      <td>2024-02-16</td>\n",
       "    </tr>\n",
       "  </tbody>\n",
       "</table>\n",
       "</div>"
      ],
      "text/plain": [
       "    Sample Date  Province  Central East, ex GTA  Central West, ex GTA  \\\n",
       "366  2024-02-16      0.54                  0.56                  0.44   \n",
       "\n",
       "     Eastern  GTA  North East  North West  South West SampleDatetime  \\\n",
       "366     0.65  0.5        0.17        2.68        0.62     2024-02-16   \n",
       "\n",
       "     SampleDate  \n",
       "366  2024-02-16  "
      ]
     },
     "execution_count": 76,
     "metadata": {},
     "output_type": "execute_result"
    }
   ],
   "source": [
    "wws_recent.head()"
   ]
  },
  {
   "cell_type": "code",
   "execution_count": 77,
   "id": "ca9225a3-f8fd-4c93-9b95-cd2c309984c2",
   "metadata": {},
   "outputs": [],
   "source": [
    "recent_bar = wws_recent.drop(columns=['Sample Date', 'SampleDatetime','SampleDate'])\n",
    "recent_bar.reset_index(drop=True, inplace=True)\n"
   ]
  },
  {
   "cell_type": "code",
   "execution_count": 78,
   "id": "d64d96ea-7e13-4910-b834-cde8184136d8",
   "metadata": {},
   "outputs": [],
   "source": [
    "transpose_recent = recent_bar.T\n",
    "transpose_recent.drop(transpose_recent.index[0], inplace=True)\n",
    "transpose_recent.columns = ['Signal']"
   ]
  },
  {
   "cell_type": "code",
   "execution_count": 88,
   "id": "dbc072c6-1dce-499c-be11-ab06fbdbf751",
   "metadata": {},
   "outputs": [
    {
     "name": "stdout",
     "output_type": "stream",
     "text": [
      "                      Signal\n",
      "Central East, ex GTA    0.56\n",
      "Central West, ex GTA    0.44\n",
      "Eastern                 0.65\n",
      "GTA                     0.50\n",
      "North East              0.17\n",
      "North West              2.68\n",
      "South West              0.62\n"
     ]
    }
   ],
   "source": [
    "print(transpose_recent)"
   ]
  },
  {
   "cell_type": "code",
   "execution_count": 89,
   "id": "eddb3c8b-24ec-435d-95f9-8453b16dbb74",
   "metadata": {},
   "outputs": [
    {
     "name": "stdout",
     "output_type": "stream",
     "text": [
      "<class 'pandas.core.frame.DataFrame'>\n",
      "Index: 7 entries, Central East, ex GTA to South West\n",
      "Data columns (total 1 columns):\n",
      " #   Column  Non-Null Count  Dtype  \n",
      "---  ------  --------------  -----  \n",
      " 0   Signal  7 non-null      float64\n",
      "dtypes: float64(1)\n",
      "memory usage: 112.0+ bytes\n"
     ]
    }
   ],
   "source": [
    "transpose_recent.info()"
   ]
  },
  {
   "cell_type": "code",
   "execution_count": 90,
   "id": "81e89e7e-755e-4aaf-a373-6e12e9825d4d",
   "metadata": {},
   "outputs": [],
   "source": [
    "import matplotlib.pyplot as plt\n",
    "import numpy as np"
   ]
  },
  {
   "cell_type": "code",
   "execution_count": 94,
   "id": "9bbe4ff8-c402-4db5-8f62-3dfa11affc60",
   "metadata": {},
   "outputs": [
    {
     "name": "stdout",
     "output_type": "stream",
     "text": [
      "Index(['Central East, ex GTA', 'Central West, ex GTA', 'Eastern', 'GTA',\n",
      "       'North East', 'North West', 'South West'],\n",
      "      dtype='object')\n"
     ]
    }
   ],
   "source": [
    "#most recent wastewater signal by regions\n",
    "categories = transpose_recent.index\n",
    "print(categories)"
   ]
  },
  {
   "cell_type": "code",
   "execution_count": 96,
   "id": "d24b848b-1367-4c42-8eb2-e77fcb3d85dd",
   "metadata": {},
   "outputs": [],
   "source": [
    "values = transpose_recent['Signal']"
   ]
  },
  {
   "cell_type": "code",
   "execution_count": 101,
   "id": "caa6c342-2014-4042-989c-296daa6f43b0",
   "metadata": {},
   "outputs": [
    {
     "data": {
      "image/png": "[encoded data removed]",
      "text/plain": [
       "<Figure size 1000x600 with 1 Axes>"
      ]
     },
     "metadata": {},
     "output_type": "display_data"
    }
   ],
   "source": [
    "plt.figure(figsize=(10,6))\n",
    "plt.bar(transpose_recent.index, transpose_recent['Signal'])\n",
    "\n",
    "# Adding data labels\n",
    "bars = plt.bar(transpose_recent.index, transpose_recent['Signal'])\n",
    "\n",
    "for bar in bars:\n",
    "    yval = bar.get_height()\n",
    "    plt.text(bar.get_x() + bar.get_width()/2, yval, round(yval, 2), ha='center', va='bottom')\n",
    "\n",
    "plt.title('Most recent COVID-19 wastewater signal by regions')\n",
    "plt.xticks(rotation=45, ha='right')\n",
    "plt.xlabel('Region')\n",
    "plt.ylabel('Standardized Concentration of SARS-CoV-2 Gene Copies')\n",
    "plt.show()"
   ]
  },
  {
   "cell_type": "markdown",
   "id": "1cabea6c-969e-4a6e-b6ff-8733f4d34e2d",
   "metadata": {},
   "source": [
    "# Plot the time trend of COVID wastewater signals for Province, NE & NW"
   ]
  },
  {
   "cell_type": "code",
   "execution_count": 102,
   "id": "c0bc1465-b433-427a-8b93-88942286cd9a",
   "metadata": {},
   "outputs": [
    {
     "data": {
      "image/png": "[encoded data removed]",
      "text/plain": [
       "<Figure size 640x480 with 1 Axes>"
      ]
     },
     "metadata": {},
     "output_type": "display_data"
    }
   ],
   "source": [
    "# Plotting multiple lines\n",
    "plt.plot(wws['Sample Date'], wws['Province'], label='Province')\n",
    "plt.plot(wws['Sample Date'], wws['North West'], label='North West')\n",
    "plt.plot(wws['Sample Date'], wws['North East'], label='North East')\n",
    "\n",
    "# Adding labels and title\n",
    "plt.xlabel('Sample Date')\n",
    "plt.ylabel('Regions')\n",
    "plt.title('COVID wastewater signal trend')\n",
    "\n",
    "# Adding a legend to distinguish between lines\n",
    "plt.legend()\n",
    "\n",
    "# Display the plot\n",
    "plt.show()\n"
   ]
  },
  {
   "cell_type": "markdown",
   "id": "77ddb163-d643-41b4-8a1e-57b7471adc50",
   "metadata": {},
   "source": [
    "Simple statistics to show how many wastewater samples have values greater than 1 at Province level"
   ]
  },
  {
   "cell_type": "code",
   "execution_count": 106,
   "id": "5cdcdf25-d29c-42e3-85a2-46c17ba894f9",
   "metadata": {},
   "outputs": [
    {
     "data": {
      "text/plain": [
       "Province\n",
       "2.30    5\n",
       "2.12    2\n",
       "1.37    2\n",
       "1.64    2\n",
       "2.15    2\n",
       "       ..\n",
       "1.73    1\n",
       "1.76    1\n",
       "1.84    1\n",
       "1.88    1\n",
       "1.03    1\n",
       "Name: count, Length: 61, dtype: int64"
      ]
     },
     "execution_count": 106,
     "metadata": {},
     "output_type": "execute_result"
    }
   ],
   "source": [
    "wws[wws['Province'] > 1]['Province'].value_counts()"
   ]
  },
  {
   "cell_type": "code",
   "execution_count": null,
   "id": "64bba7e2-efbb-406a-b3df-73dc92b2f2f4",
   "metadata": {},
   "outputs": [],
   "source": []
  }
 ],
 "metadata": {
  "kernelspec": {
   "display_name": "Python 3 (ipykernel)",
   "language": "python",
   "name": "python3"
  },
  "language_info": {
   "codemirror_mode": {
    "name": "ipython",
    "version": 3
   },
   "file_extension": ".py",
   "mimetype": "text/x-python",
   "name": "python",
   "nbconvert_exporter": "python",
   "pygments_lexer": "ipython3",
   "version": "3.11.8"
  }
 },
 "nbformat": 4,
 "nbformat_minor": 5
}
